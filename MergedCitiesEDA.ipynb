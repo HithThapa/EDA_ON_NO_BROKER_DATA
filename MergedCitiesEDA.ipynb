{
 "cells": [
  {
   "cell_type": "markdown",
   "id": "a33a4ca7",
   "metadata": {},
   "source": [
    "## Real State Analysis using Python ##\n",
    "\n",
    "### About the Dataset\n",
    "The Dataset consist details of flats in different-different cities at different-different locations. I got the Data by webscrapping the website i.e no-brokrage.\n",
    "\n",
    "### Objective of the Data Analysis\n",
    "1)Comparision between all the cities according to Price  \n",
    "2)Costliest flat  \n",
    "3)per sqft rate of flat"
   ]
  },
  {
   "cell_type": "markdown",
   "id": "a01d5051",
   "metadata": {},
   "source": [
    "#### Step-1 Importing Necessary Python Libraries"
   ]
  },
  {
   "cell_type": "code",
   "execution_count": 1,
   "id": "aa77ff1e",
   "metadata": {},
   "outputs": [],
   "source": [
    "import pandas as pd #Data processing and Data Cleaning\n",
    "import numpy as np #For mathematical calculation and creating array\n",
    "import matplotlib.pyplot as plt #For data visualization\n",
    "import seaborn as sns #For data visualization\n",
    "import plotly.express as px"
   ]
  },
  {
   "cell_type": "markdown",
   "id": "fd763cb4",
   "metadata": {},
   "source": [
    "#### Step-2 Loading Dataset"
   ]
  },
  {
   "cell_type": "code",
   "execution_count": 2,
   "id": "38f462e2",
   "metadata": {},
   "outputs": [],
   "source": [
    "df=pd.read_excel(\"C:/Users/HITH THAPA/Hith_py/Assignment/webscrapping/MergedDataAnalysis.xlsx\")#Loading Dataset"
   ]
  },
  {
   "cell_type": "code",
   "execution_count": 3,
   "id": "436bc02f",
   "metadata": {},
   "outputs": [
    {
     "data": {
      "text/html": [
       "<div>\n",
       "<style scoped>\n",
       "    .dataframe tbody tr th:only-of-type {\n",
       "        vertical-align: middle;\n",
       "    }\n",
       "\n",
       "    .dataframe tbody tr th {\n",
       "        vertical-align: top;\n",
       "    }\n",
       "\n",
       "    .dataframe thead th {\n",
       "        text-align: right;\n",
       "    }\n",
       "</style>\n",
       "<table border=\"1\" class=\"dataframe\">\n",
       "  <thead>\n",
       "    <tr style=\"text-align: right;\">\n",
       "      <th></th>\n",
       "      <th>S.no</th>\n",
       "      <th>City</th>\n",
       "      <th>Location</th>\n",
       "      <th>BHK Type</th>\n",
       "      <th>Flat</th>\n",
       "      <th>Price(Crores)</th>\n",
       "      <th>EMI per month(Thousand)</th>\n",
       "      <th>Area(sqft)</th>\n",
       "    </tr>\n",
       "  </thead>\n",
       "  <tbody>\n",
       "    <tr>\n",
       "      <th>0</th>\n",
       "      <td>1</td>\n",
       "      <td>Bangalore</td>\n",
       "      <td>koramangala_bangalore</td>\n",
       "      <td>3 BHK</td>\n",
       "      <td>3 BHK Flat  In Gangotri Grandeur, For Sale  In...</td>\n",
       "      <td>2.50</td>\n",
       "      <td>143000.0</td>\n",
       "      <td>2084</td>\n",
       "    </tr>\n",
       "    <tr>\n",
       "      <th>1</th>\n",
       "      <td>2</td>\n",
       "      <td>Bangalore</td>\n",
       "      <td>koramangala_bangalore</td>\n",
       "      <td>3 BHK</td>\n",
       "      <td>3 BHK Flat  In Dsr Orchids Apartment For Sale ...</td>\n",
       "      <td>0.95</td>\n",
       "      <td>54448.0</td>\n",
       "      <td>1462</td>\n",
       "    </tr>\n",
       "    <tr>\n",
       "      <th>2</th>\n",
       "      <td>3</td>\n",
       "      <td>Bangalore</td>\n",
       "      <td>koramangala_bangalore</td>\n",
       "      <td>4 BHK</td>\n",
       "      <td>4 BHK Flat  In Codename Venkatapura For Sale  ...</td>\n",
       "      <td>4.00</td>\n",
       "      <td>229000.0</td>\n",
       "      <td>3200</td>\n",
       "    </tr>\n",
       "    <tr>\n",
       "      <th>3</th>\n",
       "      <td>4</td>\n",
       "      <td>Bangalore</td>\n",
       "      <td>koramangala_bangalore</td>\n",
       "      <td>3 BHK</td>\n",
       "      <td>3 BHK Flat  In Codename Venkatapura For Sale  ...</td>\n",
       "      <td>3.35</td>\n",
       "      <td>192000.0</td>\n",
       "      <td>2627</td>\n",
       "    </tr>\n",
       "    <tr>\n",
       "      <th>4</th>\n",
       "      <td>5</td>\n",
       "      <td>Bangalore</td>\n",
       "      <td>koramangala_bangalore</td>\n",
       "      <td>3 BHK</td>\n",
       "      <td>3 BHK Flat  In Aishwarya Apartments  - 1  For ...</td>\n",
       "      <td>1.50</td>\n",
       "      <td>85971.0</td>\n",
       "      <td>1400</td>\n",
       "    </tr>\n",
       "    <tr>\n",
       "      <th>...</th>\n",
       "      <td>...</td>\n",
       "      <td>...</td>\n",
       "      <td>...</td>\n",
       "      <td>...</td>\n",
       "      <td>...</td>\n",
       "      <td>...</td>\n",
       "      <td>...</td>\n",
       "      <td>...</td>\n",
       "    </tr>\n",
       "    <tr>\n",
       "      <th>863</th>\n",
       "      <td>864</td>\n",
       "      <td>Mumbai</td>\n",
       "      <td>bandra_mumbai</td>\n",
       "      <td>1 RK F</td>\n",
       "      <td>1 RK Flat  In Nutan Nagar Society For Sale  In...</td>\n",
       "      <td>0.90</td>\n",
       "      <td>51583.0</td>\n",
       "      <td>310</td>\n",
       "    </tr>\n",
       "    <tr>\n",
       "      <th>864</th>\n",
       "      <td>865</td>\n",
       "      <td>Mumbai</td>\n",
       "      <td>bandra_mumbai</td>\n",
       "      <td>1 BHK</td>\n",
       "      <td>1 BHK Flat  In Labbaik House For Sale  In Band...</td>\n",
       "      <td>1.35</td>\n",
       "      <td>77374.0</td>\n",
       "      <td>450</td>\n",
       "    </tr>\n",
       "    <tr>\n",
       "      <th>865</th>\n",
       "      <td>866</td>\n",
       "      <td>Mumbai</td>\n",
       "      <td>bandra_mumbai</td>\n",
       "      <td>2 BHK</td>\n",
       "      <td>2 BHK Apartment  In Sayba Residency  For Sale ...</td>\n",
       "      <td>2.31</td>\n",
       "      <td>132000.0</td>\n",
       "      <td>700</td>\n",
       "    </tr>\n",
       "    <tr>\n",
       "      <th>866</th>\n",
       "      <td>867</td>\n",
       "      <td>Mumbai</td>\n",
       "      <td>bandra_mumbai</td>\n",
       "      <td>3 BHK</td>\n",
       "      <td>3 BHK Flat  In Sambhav Zest For Sale  In Bandr...</td>\n",
       "      <td>6.00</td>\n",
       "      <td>344000.0</td>\n",
       "      <td>925</td>\n",
       "    </tr>\n",
       "    <tr>\n",
       "      <th>867</th>\n",
       "      <td>868</td>\n",
       "      <td>Mumbai</td>\n",
       "      <td>bandra_mumbai</td>\n",
       "      <td>1 BHK</td>\n",
       "      <td>1 BHK Flat  In Sterling Apartments, Andheri Ea...</td>\n",
       "      <td>1.20</td>\n",
       "      <td>68777.0</td>\n",
       "      <td>457</td>\n",
       "    </tr>\n",
       "  </tbody>\n",
       "</table>\n",
       "<p>868 rows × 8 columns</p>\n",
       "</div>"
      ],
      "text/plain": [
       "     S.no       City               Location BHK Type  \\\n",
       "0       1  Bangalore  koramangala_bangalore   3 BHK    \n",
       "1       2  Bangalore  koramangala_bangalore   3 BHK    \n",
       "2       3  Bangalore  koramangala_bangalore   4 BHK    \n",
       "3       4  Bangalore  koramangala_bangalore   3 BHK    \n",
       "4       5  Bangalore  koramangala_bangalore   3 BHK    \n",
       "..    ...        ...                    ...      ...   \n",
       "863   864     Mumbai          bandra_mumbai   1 RK F   \n",
       "864   865     Mumbai          bandra_mumbai   1 BHK    \n",
       "865   866     Mumbai          bandra_mumbai   2 BHK    \n",
       "866   867     Mumbai          bandra_mumbai   3 BHK    \n",
       "867   868     Mumbai          bandra_mumbai   1 BHK    \n",
       "\n",
       "                                                  Flat  Price(Crores)  \\\n",
       "0    3 BHK Flat  In Gangotri Grandeur, For Sale  In...           2.50   \n",
       "1    3 BHK Flat  In Dsr Orchids Apartment For Sale ...           0.95   \n",
       "2    4 BHK Flat  In Codename Venkatapura For Sale  ...           4.00   \n",
       "3    3 BHK Flat  In Codename Venkatapura For Sale  ...           3.35   \n",
       "4    3 BHK Flat  In Aishwarya Apartments  - 1  For ...           1.50   \n",
       "..                                                 ...            ...   \n",
       "863  1 RK Flat  In Nutan Nagar Society For Sale  In...           0.90   \n",
       "864  1 BHK Flat  In Labbaik House For Sale  In Band...           1.35   \n",
       "865  2 BHK Apartment  In Sayba Residency  For Sale ...           2.31   \n",
       "866  3 BHK Flat  In Sambhav Zest For Sale  In Bandr...           6.00   \n",
       "867  1 BHK Flat  In Sterling Apartments, Andheri Ea...           1.20   \n",
       "\n",
       "     EMI per month(Thousand)  Area(sqft)  \n",
       "0                   143000.0        2084  \n",
       "1                    54448.0        1462  \n",
       "2                   229000.0        3200  \n",
       "3                   192000.0        2627  \n",
       "4                    85971.0        1400  \n",
       "..                       ...         ...  \n",
       "863                  51583.0         310  \n",
       "864                  77374.0         450  \n",
       "865                 132000.0         700  \n",
       "866                 344000.0         925  \n",
       "867                  68777.0         457  \n",
       "\n",
       "[868 rows x 8 columns]"
      ]
     },
     "execution_count": 3,
     "metadata": {},
     "output_type": "execute_result"
    }
   ],
   "source": [
    "df#Dataset"
   ]
  },
  {
   "cell_type": "markdown",
   "id": "ae4e0070",
   "metadata": {},
   "source": [
    "#### Step-3 Finding Missing Value or Null Values"
   ]
  },
  {
   "cell_type": "code",
   "execution_count": 4,
   "id": "595f55a8",
   "metadata": {},
   "outputs": [
    {
     "data": {
      "text/plain": [
       "S.no                       0\n",
       "City                       0\n",
       "Location                   0\n",
       "BHK Type                   0\n",
       "Flat                       0\n",
       "Price(Crores)              0\n",
       "EMI per month(Thousand)    0\n",
       "Area(sqft)                 0\n",
       "dtype: int64"
      ]
     },
     "execution_count": 4,
     "metadata": {},
     "output_type": "execute_result"
    }
   ],
   "source": [
    "df.isnull().sum() #To get null value in any column"
   ]
  },
  {
   "cell_type": "markdown",
   "id": "6a6f2e55",
   "metadata": {},
   "source": [
    "* There is no null value in our Dataset"
   ]
  },
  {
   "cell_type": "code",
   "execution_count": 5,
   "id": "795665af",
   "metadata": {},
   "outputs": [],
   "source": [
    "df1=df.copy()#Making copy of orignal Dataset so that in case we want to check out some old data we can refer the orignal Dataset"
   ]
  },
  {
   "cell_type": "code",
   "execution_count": 6,
   "id": "46daad51",
   "metadata": {},
   "outputs": [],
   "source": [
    "df1.drop('S.no',axis=1,inplace=True)"
   ]
  },
  {
   "cell_type": "markdown",
   "id": "b4dba4dc",
   "metadata": {},
   "source": [
    "* As the S.no column is no of our use so we can drop the whole column"
   ]
  },
  {
   "cell_type": "code",
   "execution_count": 7,
   "id": "538944d2",
   "metadata": {},
   "outputs": [
    {
     "data": {
      "text/html": [
       "<div>\n",
       "<style scoped>\n",
       "    .dataframe tbody tr th:only-of-type {\n",
       "        vertical-align: middle;\n",
       "    }\n",
       "\n",
       "    .dataframe tbody tr th {\n",
       "        vertical-align: top;\n",
       "    }\n",
       "\n",
       "    .dataframe thead th {\n",
       "        text-align: right;\n",
       "    }\n",
       "</style>\n",
       "<table border=\"1\" class=\"dataframe\">\n",
       "  <thead>\n",
       "    <tr style=\"text-align: right;\">\n",
       "      <th></th>\n",
       "      <th>Price(Crores)</th>\n",
       "      <th>EMI per month(Thousand)</th>\n",
       "      <th>Area(sqft)</th>\n",
       "    </tr>\n",
       "  </thead>\n",
       "  <tbody>\n",
       "    <tr>\n",
       "      <th>count</th>\n",
       "      <td>868.000000</td>\n",
       "      <td>868.000000</td>\n",
       "      <td>868.000000</td>\n",
       "    </tr>\n",
       "    <tr>\n",
       "      <th>mean</th>\n",
       "      <td>1.519439</td>\n",
       "      <td>87084.918203</td>\n",
       "      <td>1222.526498</td>\n",
       "    </tr>\n",
       "    <tr>\n",
       "      <th>std</th>\n",
       "      <td>1.516825</td>\n",
       "      <td>86939.259855</td>\n",
       "      <td>775.720342</td>\n",
       "    </tr>\n",
       "    <tr>\n",
       "      <th>min</th>\n",
       "      <td>0.060000</td>\n",
       "      <td>3438.000000</td>\n",
       "      <td>198.000000</td>\n",
       "    </tr>\n",
       "    <tr>\n",
       "      <th>25%</th>\n",
       "      <td>0.670000</td>\n",
       "      <td>38400.000000</td>\n",
       "      <td>791.750000</td>\n",
       "    </tr>\n",
       "    <tr>\n",
       "      <th>50%</th>\n",
       "      <td>0.991800</td>\n",
       "      <td>56844.000000</td>\n",
       "      <td>1068.500000</td>\n",
       "    </tr>\n",
       "    <tr>\n",
       "      <th>75%</th>\n",
       "      <td>1.752500</td>\n",
       "      <td>100250.000000</td>\n",
       "      <td>1440.000000</td>\n",
       "    </tr>\n",
       "    <tr>\n",
       "      <th>max</th>\n",
       "      <td>13.000000</td>\n",
       "      <td>745000.000000</td>\n",
       "      <td>9000.000000</td>\n",
       "    </tr>\n",
       "  </tbody>\n",
       "</table>\n",
       "</div>"
      ],
      "text/plain": [
       "       Price(Crores)  EMI per month(Thousand)   Area(sqft)\n",
       "count     868.000000               868.000000   868.000000\n",
       "mean        1.519439             87084.918203  1222.526498\n",
       "std         1.516825             86939.259855   775.720342\n",
       "min         0.060000              3438.000000   198.000000\n",
       "25%         0.670000             38400.000000   791.750000\n",
       "50%         0.991800             56844.000000  1068.500000\n",
       "75%         1.752500            100250.000000  1440.000000\n",
       "max        13.000000            745000.000000  9000.000000"
      ]
     },
     "execution_count": 7,
     "metadata": {},
     "output_type": "execute_result"
    }
   ],
   "source": [
    "df1.describe()#To get the statistical data of our Data set "
   ]
  },
  {
   "cell_type": "markdown",
   "id": "f6591bbe",
   "metadata": {},
   "source": [
    "* As we can see from the above data that the maximum Price of Flat is 13 Crores and Minimum Price of Flat is 6 Lakh among all the cities present in our dataset.\n",
    "* We can also see that 25% of rates are equals to or below 67 Lacs, 50% of rates are equals to or below 99 Lacs and 75% of rates are equals to or below 1.75 Crore.\n",
    "* Maximum area available is 9000 sqft and minimum area available is 198 sqft.\n",
    "\n"
   ]
  },
  {
   "cell_type": "code",
   "execution_count": 8,
   "id": "74e16788",
   "metadata": {},
   "outputs": [
    {
     "name": "stdout",
     "output_type": "stream",
     "text": [
      "<class 'pandas.core.frame.DataFrame'>\n",
      "RangeIndex: 868 entries, 0 to 867\n",
      "Data columns (total 7 columns):\n",
      " #   Column                   Non-Null Count  Dtype  \n",
      "---  ------                   --------------  -----  \n",
      " 0   City                     868 non-null    object \n",
      " 1   Location                 868 non-null    object \n",
      " 2   BHK Type                 868 non-null    object \n",
      " 3   Flat                     868 non-null    object \n",
      " 4   Price(Crores)            868 non-null    float64\n",
      " 5   EMI per month(Thousand)  868 non-null    float64\n",
      " 6   Area(sqft)               868 non-null    int64  \n",
      "dtypes: float64(2), int64(1), object(4)\n",
      "memory usage: 47.6+ KB\n"
     ]
    }
   ],
   "source": [
    "df1.info() # By this we can check the datatype of our data set and as well as we can check for Null values also."
   ]
  },
  {
   "cell_type": "code",
   "execution_count": 30,
   "id": "1af58958",
   "metadata": {},
   "outputs": [
    {
     "data": {
      "text/plain": [
       "12500.0"
      ]
     },
     "execution_count": 30,
     "metadata": {},
     "output_type": "execute_result"
    }
   ],
   "source": [
    "40000000/3200\n"
   ]
  },
  {
   "cell_type": "markdown",
   "id": "86790511",
   "metadata": {},
   "source": [
    "* We can see that the datatype of columns(City, BHK Type, Location) is Object which dosn't need any conversion"
   ]
  },
  {
   "cell_type": "code",
   "execution_count": 9,
   "id": "0e208e30",
   "metadata": {},
   "outputs": [
    {
     "data": {
      "text/html": [
       "<div>\n",
       "<style scoped>\n",
       "    .dataframe tbody tr th:only-of-type {\n",
       "        vertical-align: middle;\n",
       "    }\n",
       "\n",
       "    .dataframe tbody tr th {\n",
       "        vertical-align: top;\n",
       "    }\n",
       "\n",
       "    .dataframe thead th {\n",
       "        text-align: right;\n",
       "    }\n",
       "</style>\n",
       "<table border=\"1\" class=\"dataframe\">\n",
       "  <thead>\n",
       "    <tr style=\"text-align: right;\">\n",
       "      <th></th>\n",
       "      <th>City</th>\n",
       "      <th>Location</th>\n",
       "      <th>BHK Type</th>\n",
       "      <th>Flat</th>\n",
       "      <th>Price(Crores)</th>\n",
       "      <th>EMI per month(Thousand)</th>\n",
       "      <th>Area(sqft)</th>\n",
       "    </tr>\n",
       "  </thead>\n",
       "  <tbody>\n",
       "    <tr>\n",
       "      <th>0</th>\n",
       "      <td>Bangalore</td>\n",
       "      <td>koramangala_bangalore</td>\n",
       "      <td>3 BHK</td>\n",
       "      <td>3 BHK Flat  In Gangotri Grandeur, For Sale  In...</td>\n",
       "      <td>2.50</td>\n",
       "      <td>143000.0</td>\n",
       "      <td>2084</td>\n",
       "    </tr>\n",
       "    <tr>\n",
       "      <th>1</th>\n",
       "      <td>Bangalore</td>\n",
       "      <td>koramangala_bangalore</td>\n",
       "      <td>3 BHK</td>\n",
       "      <td>3 BHK Flat  In Dsr Orchids Apartment For Sale ...</td>\n",
       "      <td>0.95</td>\n",
       "      <td>54448.0</td>\n",
       "      <td>1462</td>\n",
       "    </tr>\n",
       "    <tr>\n",
       "      <th>2</th>\n",
       "      <td>Bangalore</td>\n",
       "      <td>koramangala_bangalore</td>\n",
       "      <td>4 BHK</td>\n",
       "      <td>4 BHK Flat  In Codename Venkatapura For Sale  ...</td>\n",
       "      <td>4.00</td>\n",
       "      <td>229000.0</td>\n",
       "      <td>3200</td>\n",
       "    </tr>\n",
       "    <tr>\n",
       "      <th>3</th>\n",
       "      <td>Bangalore</td>\n",
       "      <td>koramangala_bangalore</td>\n",
       "      <td>3 BHK</td>\n",
       "      <td>3 BHK Flat  In Codename Venkatapura For Sale  ...</td>\n",
       "      <td>3.35</td>\n",
       "      <td>192000.0</td>\n",
       "      <td>2627</td>\n",
       "    </tr>\n",
       "    <tr>\n",
       "      <th>4</th>\n",
       "      <td>Bangalore</td>\n",
       "      <td>koramangala_bangalore</td>\n",
       "      <td>3 BHK</td>\n",
       "      <td>3 BHK Flat  In Aishwarya Apartments  - 1  For ...</td>\n",
       "      <td>1.50</td>\n",
       "      <td>85971.0</td>\n",
       "      <td>1400</td>\n",
       "    </tr>\n",
       "    <tr>\n",
       "      <th>...</th>\n",
       "      <td>...</td>\n",
       "      <td>...</td>\n",
       "      <td>...</td>\n",
       "      <td>...</td>\n",
       "      <td>...</td>\n",
       "      <td>...</td>\n",
       "      <td>...</td>\n",
       "    </tr>\n",
       "    <tr>\n",
       "      <th>863</th>\n",
       "      <td>Mumbai</td>\n",
       "      <td>bandra_mumbai</td>\n",
       "      <td>1 RK F</td>\n",
       "      <td>1 RK Flat  In Nutan Nagar Society For Sale  In...</td>\n",
       "      <td>0.90</td>\n",
       "      <td>51583.0</td>\n",
       "      <td>310</td>\n",
       "    </tr>\n",
       "    <tr>\n",
       "      <th>864</th>\n",
       "      <td>Mumbai</td>\n",
       "      <td>bandra_mumbai</td>\n",
       "      <td>1 BHK</td>\n",
       "      <td>1 BHK Flat  In Labbaik House For Sale  In Band...</td>\n",
       "      <td>1.35</td>\n",
       "      <td>77374.0</td>\n",
       "      <td>450</td>\n",
       "    </tr>\n",
       "    <tr>\n",
       "      <th>865</th>\n",
       "      <td>Mumbai</td>\n",
       "      <td>bandra_mumbai</td>\n",
       "      <td>2 BHK</td>\n",
       "      <td>2 BHK Apartment  In Sayba Residency  For Sale ...</td>\n",
       "      <td>2.31</td>\n",
       "      <td>132000.0</td>\n",
       "      <td>700</td>\n",
       "    </tr>\n",
       "    <tr>\n",
       "      <th>866</th>\n",
       "      <td>Mumbai</td>\n",
       "      <td>bandra_mumbai</td>\n",
       "      <td>3 BHK</td>\n",
       "      <td>3 BHK Flat  In Sambhav Zest For Sale  In Bandr...</td>\n",
       "      <td>6.00</td>\n",
       "      <td>344000.0</td>\n",
       "      <td>925</td>\n",
       "    </tr>\n",
       "    <tr>\n",
       "      <th>867</th>\n",
       "      <td>Mumbai</td>\n",
       "      <td>bandra_mumbai</td>\n",
       "      <td>1 BHK</td>\n",
       "      <td>1 BHK Flat  In Sterling Apartments, Andheri Ea...</td>\n",
       "      <td>1.20</td>\n",
       "      <td>68777.0</td>\n",
       "      <td>457</td>\n",
       "    </tr>\n",
       "  </tbody>\n",
       "</table>\n",
       "<p>868 rows × 7 columns</p>\n",
       "</div>"
      ],
      "text/plain": [
       "          City               Location BHK Type  \\\n",
       "0    Bangalore  koramangala_bangalore   3 BHK    \n",
       "1    Bangalore  koramangala_bangalore   3 BHK    \n",
       "2    Bangalore  koramangala_bangalore   4 BHK    \n",
       "3    Bangalore  koramangala_bangalore   3 BHK    \n",
       "4    Bangalore  koramangala_bangalore   3 BHK    \n",
       "..         ...                    ...      ...   \n",
       "863     Mumbai          bandra_mumbai   1 RK F   \n",
       "864     Mumbai          bandra_mumbai   1 BHK    \n",
       "865     Mumbai          bandra_mumbai   2 BHK    \n",
       "866     Mumbai          bandra_mumbai   3 BHK    \n",
       "867     Mumbai          bandra_mumbai   1 BHK    \n",
       "\n",
       "                                                  Flat  Price(Crores)  \\\n",
       "0    3 BHK Flat  In Gangotri Grandeur, For Sale  In...           2.50   \n",
       "1    3 BHK Flat  In Dsr Orchids Apartment For Sale ...           0.95   \n",
       "2    4 BHK Flat  In Codename Venkatapura For Sale  ...           4.00   \n",
       "3    3 BHK Flat  In Codename Venkatapura For Sale  ...           3.35   \n",
       "4    3 BHK Flat  In Aishwarya Apartments  - 1  For ...           1.50   \n",
       "..                                                 ...            ...   \n",
       "863  1 RK Flat  In Nutan Nagar Society For Sale  In...           0.90   \n",
       "864  1 BHK Flat  In Labbaik House For Sale  In Band...           1.35   \n",
       "865  2 BHK Apartment  In Sayba Residency  For Sale ...           2.31   \n",
       "866  3 BHK Flat  In Sambhav Zest For Sale  In Bandr...           6.00   \n",
       "867  1 BHK Flat  In Sterling Apartments, Andheri Ea...           1.20   \n",
       "\n",
       "     EMI per month(Thousand)  Area(sqft)  \n",
       "0                   143000.0        2084  \n",
       "1                    54448.0        1462  \n",
       "2                   229000.0        3200  \n",
       "3                   192000.0        2627  \n",
       "4                    85971.0        1400  \n",
       "..                       ...         ...  \n",
       "863                  51583.0         310  \n",
       "864                  77374.0         450  \n",
       "865                 132000.0         700  \n",
       "866                 344000.0         925  \n",
       "867                  68777.0         457  \n",
       "\n",
       "[868 rows x 7 columns]"
      ]
     },
     "execution_count": 9,
     "metadata": {},
     "output_type": "execute_result"
    }
   ],
   "source": [
    "df1"
   ]
  },
  {
   "cell_type": "markdown",
   "id": "27e24cf6",
   "metadata": {},
   "source": [
    "#### Step-4 Data Prepration for analysis\n",
    "\n",
    "* Adding one more column for per sqft rate"
   ]
  },
  {
   "cell_type": "code",
   "execution_count": 10,
   "id": "cda751f6",
   "metadata": {},
   "outputs": [],
   "source": [
    "df1['Rate per sqft(Thousand)']=(df1['Price(Crores)']/df1['Area(sqft)'])*10000000"
   ]
  },
  {
   "cell_type": "code",
   "execution_count": 11,
   "id": "5caea2d9",
   "metadata": {},
   "outputs": [
    {
     "data": {
      "text/html": [
       "<div>\n",
       "<style scoped>\n",
       "    .dataframe tbody tr th:only-of-type {\n",
       "        vertical-align: middle;\n",
       "    }\n",
       "\n",
       "    .dataframe tbody tr th {\n",
       "        vertical-align: top;\n",
       "    }\n",
       "\n",
       "    .dataframe thead th {\n",
       "        text-align: right;\n",
       "    }\n",
       "</style>\n",
       "<table border=\"1\" class=\"dataframe\">\n",
       "  <thead>\n",
       "    <tr style=\"text-align: right;\">\n",
       "      <th></th>\n",
       "      <th>City</th>\n",
       "      <th>Location</th>\n",
       "      <th>BHK Type</th>\n",
       "      <th>Flat</th>\n",
       "      <th>Price(Crores)</th>\n",
       "      <th>EMI per month(Thousand)</th>\n",
       "      <th>Area(sqft)</th>\n",
       "      <th>Rate per sqft(Thousand)</th>\n",
       "    </tr>\n",
       "  </thead>\n",
       "  <tbody>\n",
       "    <tr>\n",
       "      <th>0</th>\n",
       "      <td>Bangalore</td>\n",
       "      <td>koramangala_bangalore</td>\n",
       "      <td>3 BHK</td>\n",
       "      <td>3 BHK Flat  In Gangotri Grandeur, For Sale  In...</td>\n",
       "      <td>2.50</td>\n",
       "      <td>143000.0</td>\n",
       "      <td>2084</td>\n",
       "      <td>11996.161228</td>\n",
       "    </tr>\n",
       "    <tr>\n",
       "      <th>1</th>\n",
       "      <td>Bangalore</td>\n",
       "      <td>koramangala_bangalore</td>\n",
       "      <td>3 BHK</td>\n",
       "      <td>3 BHK Flat  In Dsr Orchids Apartment For Sale ...</td>\n",
       "      <td>0.95</td>\n",
       "      <td>54448.0</td>\n",
       "      <td>1462</td>\n",
       "      <td>6497.948016</td>\n",
       "    </tr>\n",
       "    <tr>\n",
       "      <th>2</th>\n",
       "      <td>Bangalore</td>\n",
       "      <td>koramangala_bangalore</td>\n",
       "      <td>4 BHK</td>\n",
       "      <td>4 BHK Flat  In Codename Venkatapura For Sale  ...</td>\n",
       "      <td>4.00</td>\n",
       "      <td>229000.0</td>\n",
       "      <td>3200</td>\n",
       "      <td>12500.000000</td>\n",
       "    </tr>\n",
       "    <tr>\n",
       "      <th>3</th>\n",
       "      <td>Bangalore</td>\n",
       "      <td>koramangala_bangalore</td>\n",
       "      <td>3 BHK</td>\n",
       "      <td>3 BHK Flat  In Codename Venkatapura For Sale  ...</td>\n",
       "      <td>3.35</td>\n",
       "      <td>192000.0</td>\n",
       "      <td>2627</td>\n",
       "      <td>12752.188809</td>\n",
       "    </tr>\n",
       "    <tr>\n",
       "      <th>4</th>\n",
       "      <td>Bangalore</td>\n",
       "      <td>koramangala_bangalore</td>\n",
       "      <td>3 BHK</td>\n",
       "      <td>3 BHK Flat  In Aishwarya Apartments  - 1  For ...</td>\n",
       "      <td>1.50</td>\n",
       "      <td>85971.0</td>\n",
       "      <td>1400</td>\n",
       "      <td>10714.285714</td>\n",
       "    </tr>\n",
       "  </tbody>\n",
       "</table>\n",
       "</div>"
      ],
      "text/plain": [
       "        City               Location BHK Type  \\\n",
       "0  Bangalore  koramangala_bangalore   3 BHK    \n",
       "1  Bangalore  koramangala_bangalore   3 BHK    \n",
       "2  Bangalore  koramangala_bangalore   4 BHK    \n",
       "3  Bangalore  koramangala_bangalore   3 BHK    \n",
       "4  Bangalore  koramangala_bangalore   3 BHK    \n",
       "\n",
       "                                                Flat  Price(Crores)  \\\n",
       "0  3 BHK Flat  In Gangotri Grandeur, For Sale  In...           2.50   \n",
       "1  3 BHK Flat  In Dsr Orchids Apartment For Sale ...           0.95   \n",
       "2  4 BHK Flat  In Codename Venkatapura For Sale  ...           4.00   \n",
       "3  3 BHK Flat  In Codename Venkatapura For Sale  ...           3.35   \n",
       "4  3 BHK Flat  In Aishwarya Apartments  - 1  For ...           1.50   \n",
       "\n",
       "   EMI per month(Thousand)  Area(sqft)  Rate per sqft(Thousand)  \n",
       "0                 143000.0        2084             11996.161228  \n",
       "1                  54448.0        1462              6497.948016  \n",
       "2                 229000.0        3200             12500.000000  \n",
       "3                 192000.0        2627             12752.188809  \n",
       "4                  85971.0        1400             10714.285714  "
      ]
     },
     "execution_count": 11,
     "metadata": {},
     "output_type": "execute_result"
    }
   ],
   "source": [
    "df1.head()"
   ]
  },
  {
   "cell_type": "markdown",
   "id": "b2257f2a",
   "metadata": {},
   "source": [
    "# Data Analysis"
   ]
  },
  {
   "cell_type": "markdown",
   "id": "cfaea96b",
   "metadata": {},
   "source": [
    "### Que-1) Comparision between all the cities according to price"
   ]
  },
  {
   "cell_type": "code",
   "execution_count": 12,
   "id": "5b43e612",
   "metadata": {},
   "outputs": [
    {
     "data": {
      "text/plain": [
       "Text(0, 0.5, 'Crores')"
      ]
     },
     "execution_count": 12,
     "metadata": {},
     "output_type": "execute_result"
    },
    {
     "data": {
      "image/png": "[encoded data removed]",
      "text/plain": [
       "<Figure size 640x480 with 1 Axes>"
      ]
     },
     "metadata": {},
     "output_type": "display_data"
    }
   ],
   "source": [
    "plt.bar(df1['City'],df1['Price(Crores)'])\n",
    "plt.xlabel('City')\n",
    "plt.ylabel('Crores')"
   ]
  },
  {
   "cell_type": "markdown",
   "id": "66955107",
   "metadata": {},
   "source": [
    "### Conclusion no. 1:-\n",
    "* with the help of above bar graph we can see that Delhi is the city in which the rates of Flat is Maximum and Chennai is the city with minimum rates among all "
   ]
  },
  {
   "cell_type": "markdown",
   "id": "e0e38b87",
   "metadata": {},
   "source": [
    "### Que 2) Which city contain what type of Flat "
   ]
  },
  {
   "cell_type": "code",
   "execution_count": 13,
   "id": "d61cfd23",
   "metadata": {},
   "outputs": [
    {
     "data": {
      "text/plain": [
       "Text(0, 0.5, 'Flat')"
      ]
     },
     "execution_count": 13,
     "metadata": {},
     "output_type": "execute_result"
    },
    {
     "data": {
      "image/png": "[encoded data removed]",
      "text/plain": [
       "<Figure size 640x480 with 1 Axes>"
      ]
     },
     "metadata": {},
     "output_type": "display_data"
    }
   ],
   "source": [
    "plt.bar(df1['City'],df1['BHK Type'])\n",
    "plt.xlabel('City')\n",
    "plt.ylabel('Flat')"
   ]
  },
  {
   "cell_type": "markdown",
   "id": "04bd0186",
   "metadata": {},
   "source": [
    "### Conclusion no. 2:-\n",
    "* We can see that Bangalore is the only city which does not have 1 RK(Room, Kitchen) Flat for sell. So, one should not search 1RK in Bangalore"
   ]
  },
  {
   "cell_type": "markdown",
   "id": "22b6c855",
   "metadata": {},
   "source": [
    "### Que-3) Which city is having highest and lowest Rate per sqft?"
   ]
  },
  {
   "cell_type": "code",
   "execution_count": 14,
   "id": "70bd5edf",
   "metadata": {},
   "outputs": [
    {
     "data": {
      "text/plain": [
       "<BarContainer object of 868 artists>"
      ]
     },
     "execution_count": 14,
     "metadata": {},
     "output_type": "execute_result"
    },
    {
     "data": {
      "image/png": "[encoded data removed]",
      "text/plain": [
       "<Figure size 640x480 with 1 Axes>"
      ]
     },
     "metadata": {},
     "output_type": "display_data"
    }
   ],
   "source": [
    "plt.bar(df1['City'],df1['Rate per sqft(Thousand)'])"
   ]
  },
  {
   "cell_type": "markdown",
   "id": "2fab3d80",
   "metadata": {},
   "source": [
    "### Conclusion no. 3:-   \n",
    "* Bangalore is the city with maximum Rate per sqft and Chennai is the city with lowest Rate per sqft"
   ]
  },
  {
   "cell_type": "markdown",
   "id": "37d10e1d",
   "metadata": {},
   "source": [
    "### Que-4) Which Location contains the costilest as well as economical Flat in each city?"
   ]
  },
  {
   "cell_type": "code",
   "execution_count": 15,
   "id": "8ace7eca",
   "metadata": {},
   "outputs": [
    {
     "data": {
      "text/plain": [
       "Index(['City', 'Location', 'BHK Type', 'Flat', 'Price(Crores)',\n",
       "       'EMI per month(Thousand)', 'Area(sqft)', 'Rate per sqft(Thousand)'],\n",
       "      dtype='object')"
      ]
     },
     "execution_count": 15,
     "metadata": {},
     "output_type": "execute_result"
    }
   ],
   "source": [
    "df1.columns"
   ]
  },
  {
   "cell_type": "code",
   "execution_count": 16,
   "id": "78a33fe3",
   "metadata": {},
   "outputs": [],
   "source": [
    "dfB=df1[df1['City']=='Bangalore']"
   ]
  },
  {
   "cell_type": "code",
   "execution_count": 17,
   "id": "314ff37f",
   "metadata": {},
   "outputs": [],
   "source": [
    "dfC=df1[df1['City']=='Chennai']\n"
   ]
  },
  {
   "cell_type": "code",
   "execution_count": 18,
   "id": "e8e277c2",
   "metadata": {},
   "outputs": [],
   "source": [
    "dfD=df1[df1['City']=='Delhi']"
   ]
  },
  {
   "cell_type": "code",
   "execution_count": 19,
   "id": "21d6205d",
   "metadata": {},
   "outputs": [],
   "source": [
    "dfM=df1[df1['City']=='Mumbai']"
   ]
  },
  {
   "cell_type": "markdown",
   "id": "b0a5e7b5",
   "metadata": {},
   "source": [
    "* Creating a seperate Dataframe for different City according to Location, Price and Area."
   ]
  },
  {
   "cell_type": "code",
   "execution_count": 20,
   "id": "df6dc4b4",
   "metadata": {},
   "outputs": [
    {
     "data": {
      "text/plain": [
       "([0, 1, 2, 3, 4, 5, 6, 7, 8, 9],\n",
       " [Text(0, 0, 'andheri_west_mumbai'),\n",
       "  Text(1, 0, 'andheri_east_mumbai'),\n",
       "  Text(2, 0, 'malad_west_mumbai'),\n",
       "  Text(3, 0, 'navi_mumbai_mumbai'),\n",
       "  Text(4, 0, 'powai_mumbai'),\n",
       "  Text(5, 0, 'thane_west_mumbai'),\n",
       "  Text(6, 0, 'mira_road_east_mumbai'),\n",
       "  Text(7, 0, 'kharghar_mumbai'),\n",
       "  Text(8, 0, 'kandivali_east_mumbai'),\n",
       "  Text(9, 0, 'bandra_mumbai')])"
      ]
     },
     "execution_count": 20,
     "metadata": {},
     "output_type": "execute_result"
    },
    {
     "data": {
      "image/png": "[encoded data removed]",
      "text/plain": [
       "<Figure size 1400x300 with 4 Axes>"
      ]
     },
     "metadata": {},
     "output_type": "display_data"
    }
   ],
   "source": [
    "plt.figure(figsize=(14,3))\n",
    "plt.subplot(1,4,1)\n",
    "plt.bar(dfB['Location'],dfB['Price(Crores)'])\n",
    "plt.xlabel('Locations')\n",
    "plt.ylabel('Price in Crores')\n",
    "plt.xticks(rotation=90)\n",
    "plt.subplot(1,4,2)\n",
    "plt.bar(dfD['Location'],dfD['Price(Crores)'])\n",
    "plt.xlabel('Locations')\n",
    "plt.ylabel('Price in Crores')\n",
    "plt.xticks(rotation=90)\n",
    "plt.subplot(1,4,3)\n",
    "plt.bar(dfC['Location'],dfC['Price(Crores)'])\n",
    "plt.xlabel('Locations')\n",
    "plt.ylabel('Price in Crores')\n",
    "plt.xticks(rotation=90)\n",
    "plt.subplot(1,4,4)\n",
    "plt.bar(dfM['Location'],dfM['Price(Crores)'])\n",
    "plt.xlabel('Locations')\n",
    "plt.ylabel('Price in Crores')\n",
    "plt.xticks(rotation=90)"
   ]
  },
  {
   "cell_type": "markdown",
   "id": "8163fa65",
   "metadata": {},
   "source": [
    "### Conclusion no. 4:-\n",
    "* Koramangala is the costiliest and Chandra Layout is the cheapest location to get flat in Bangalore. \n",
    "* Vasant-vihar is the costiliest and Lajpat Nagar is the cheapest location to get flat in Delhi.\n",
    "* Adyar is the costiliest and Madipallam is the cheapest location to get flat in Chennai.\n",
    "* Bandra is the costiliest and Navi Mumbai is the cheapest location to get flat in Mumbai. \n",
    "#### Among all the Location in all city Vasant-vihar is the costiliest one i.e in Delhi and Madipallam is the cheapest one i.e in Chennai\n",
    "\n"
   ]
  },
  {
   "cell_type": "markdown",
   "id": "54de5f3c",
   "metadata": {},
   "source": [
    "### Que 5) Which type of Flat is the costilest in Delhi and Cheapest in Chennai ?"
   ]
  },
  {
   "cell_type": "code",
   "execution_count": 21,
   "id": "9aba70f3",
   "metadata": {},
   "outputs": [],
   "source": [
    "dfDL=dfD[dfD['Location']=='vasant-vihar-delhi']\n",
    "dfCL=dfC[dfC['Location']=='madipakkam_chennai']"
   ]
  },
  {
   "cell_type": "code",
   "execution_count": 22,
   "id": "44354c13",
   "metadata": {},
   "outputs": [
    {
     "data": {
      "text/plain": [
       "13.0"
      ]
     },
     "execution_count": 22,
     "metadata": {},
     "output_type": "execute_result"
    }
   ],
   "source": [
    "max(dfDL['Price(Crores)'])"
   ]
  },
  {
   "cell_type": "code",
   "execution_count": 23,
   "id": "bb2655e2",
   "metadata": {},
   "outputs": [
    {
     "data": {
      "text/html": [
       "<div>\n",
       "<style scoped>\n",
       "    .dataframe tbody tr th:only-of-type {\n",
       "        vertical-align: middle;\n",
       "    }\n",
       "\n",
       "    .dataframe tbody tr th {\n",
       "        vertical-align: top;\n",
       "    }\n",
       "\n",
       "    .dataframe thead th {\n",
       "        text-align: right;\n",
       "    }\n",
       "</style>\n",
       "<table border=\"1\" class=\"dataframe\">\n",
       "  <thead>\n",
       "    <tr style=\"text-align: right;\">\n",
       "      <th></th>\n",
       "      <th>City</th>\n",
       "      <th>Location</th>\n",
       "      <th>BHK Type</th>\n",
       "      <th>Flat</th>\n",
       "      <th>Price(Crores)</th>\n",
       "      <th>EMI per month(Thousand)</th>\n",
       "      <th>Area(sqft)</th>\n",
       "      <th>Rate per sqft(Thousand)</th>\n",
       "    </tr>\n",
       "  </thead>\n",
       "  <tbody>\n",
       "    <tr>\n",
       "      <th>492</th>\n",
       "      <td>Delhi</td>\n",
       "      <td>vasant-vihar-delhi</td>\n",
       "      <td>4 BHK</td>\n",
       "      <td>4 BHK Flat  In Apartment For Sale  In Vasant V...</td>\n",
       "      <td>13.0</td>\n",
       "      <td>745000.0</td>\n",
       "      <td>4950</td>\n",
       "      <td>26262.626263</td>\n",
       "    </tr>\n",
       "  </tbody>\n",
       "</table>\n",
       "</div>"
      ],
      "text/plain": [
       "      City            Location BHK Type  \\\n",
       "492  Delhi  vasant-vihar-delhi   4 BHK    \n",
       "\n",
       "                                                  Flat  Price(Crores)  \\\n",
       "492  4 BHK Flat  In Apartment For Sale  In Vasant V...           13.0   \n",
       "\n",
       "     EMI per month(Thousand)  Area(sqft)  Rate per sqft(Thousand)  \n",
       "492                 745000.0        4950             26262.626263  "
      ]
     },
     "execution_count": 23,
     "metadata": {},
     "output_type": "execute_result"
    }
   ],
   "source": [
    "dfDL[dfDL['Price(Crores)']==13]"
   ]
  },
  {
   "cell_type": "code",
   "execution_count": 24,
   "id": "fac7d47b",
   "metadata": {},
   "outputs": [
    {
     "data": {
      "text/plain": [
       "0.38"
      ]
     },
     "execution_count": 24,
     "metadata": {},
     "output_type": "execute_result"
    }
   ],
   "source": [
    "min(dfCL['Price(Crores)'])"
   ]
  },
  {
   "cell_type": "code",
   "execution_count": 25,
   "id": "af8b58cc",
   "metadata": {},
   "outputs": [
    {
     "data": {
      "text/html": [
       "<div>\n",
       "<style scoped>\n",
       "    .dataframe tbody tr th:only-of-type {\n",
       "        vertical-align: middle;\n",
       "    }\n",
       "\n",
       "    .dataframe tbody tr th {\n",
       "        vertical-align: top;\n",
       "    }\n",
       "\n",
       "    .dataframe thead th {\n",
       "        text-align: right;\n",
       "    }\n",
       "</style>\n",
       "<table border=\"1\" class=\"dataframe\">\n",
       "  <thead>\n",
       "    <tr style=\"text-align: right;\">\n",
       "      <th></th>\n",
       "      <th>City</th>\n",
       "      <th>Location</th>\n",
       "      <th>BHK Type</th>\n",
       "      <th>Flat</th>\n",
       "      <th>Price(Crores)</th>\n",
       "      <th>EMI per month(Thousand)</th>\n",
       "      <th>Area(sqft)</th>\n",
       "      <th>Rate per sqft(Thousand)</th>\n",
       "    </tr>\n",
       "  </thead>\n",
       "  <tbody>\n",
       "    <tr>\n",
       "      <th>289</th>\n",
       "      <td>Chennai</td>\n",
       "      <td>madipakkam_chennai</td>\n",
       "      <td>2 BHK</td>\n",
       "      <td>2 BHK Flat  In Ram Villa Apartment For Sale  I...</td>\n",
       "      <td>0.38</td>\n",
       "      <td>21779.0</td>\n",
       "      <td>787</td>\n",
       "      <td>4828.462516</td>\n",
       "    </tr>\n",
       "  </tbody>\n",
       "</table>\n",
       "</div>"
      ],
      "text/plain": [
       "        City            Location BHK Type  \\\n",
       "289  Chennai  madipakkam_chennai   2 BHK    \n",
       "\n",
       "                                                  Flat  Price(Crores)  \\\n",
       "289  2 BHK Flat  In Ram Villa Apartment For Sale  I...           0.38   \n",
       "\n",
       "     EMI per month(Thousand)  Area(sqft)  Rate per sqft(Thousand)  \n",
       "289                  21779.0         787              4828.462516  "
      ]
     },
     "execution_count": 25,
     "metadata": {},
     "output_type": "execute_result"
    }
   ],
   "source": [
    "dfCL[dfCL['Price(Crores)']==0.38]"
   ]
  },
  {
   "cell_type": "code",
   "execution_count": 26,
   "id": "c4952368",
   "metadata": {},
   "outputs": [
    {
     "data": {
      "text/plain": [
       "([0, 1], [Text(0, 0, '2 BHK '), Text(1, 0, '3 BHK ')])"
      ]
     },
     "execution_count": 26,
     "metadata": {},
     "output_type": "execute_result"
    },
    {
     "data": {
      "image/png": "[encoded data removed]",
      "text/plain": [
       "<Figure size 1200x400 with 2 Axes>"
      ]
     },
     "metadata": {},
     "output_type": "display_data"
    }
   ],
   "source": [
    "plt.figure(figsize=(12,4))\n",
    "plt.subplot(1,2,1)\n",
    "plt.bar(dfDL['BHK Type'],dfDL['Price(Crores)'])\n",
    "plt.xlabel('Flat Type')\n",
    "plt.ylabel('Price in Crores')\n",
    "plt.xticks(rotation=90)\n",
    "plt.subplot(1,2,2)\n",
    "plt.bar(dfCL['BHK Type'],dfCL['Price(Crores)'])\n",
    "plt.xlabel('Flat Type')\n",
    "plt.ylabel('Price in Crores')\n",
    "plt.xticks(rotation=90)\n"
   ]
  },
  {
   "cell_type": "markdown",
   "id": "c3cf0134",
   "metadata": {},
   "source": [
    "### Conclusion no. 5:-\n",
    "* From above Data we get to know that in Delhi the 4BHK Flat is the most expensive one i.e is in Vasant-vihar and 2BHK Flat is the cheapest one i.e is in madipakkam in chennai\n"
   ]
  },
  {
   "cell_type": "markdown",
   "id": "0e7fe3b7",
   "metadata": {},
   "source": [
    "### Que-6) find the Inter-relation between price and area in different cities?\n"
   ]
  },
  {
   "cell_type": "code",
   "execution_count": 27,
   "id": "84bce6c6",
   "metadata": {},
   "outputs": [
    {
     "data": {
      "text/plain": [
       "<matplotlib.collections.PathCollection at 0x1b8ca0f4a10>"
      ]
     },
     "execution_count": 27,
     "metadata": {},
     "output_type": "execute_result"
    },
    {
     "data": {
      "image/png": "[encoded data removed]",
      "text/plain": [
       "<Figure size 640x480 with 1 Axes>"
      ]
     },
     "metadata": {},
     "output_type": "display_data"
    }
   ],
   "source": [
    "plt.scatter(dfDL['Price(Crores)'],dfDL['Area(sqft)'])"
   ]
  },
  {
   "cell_type": "code",
   "execution_count": null,
   "id": "36e185af",
   "metadata": {},
   "outputs": [],
   "source": []
  }
 ],
 "metadata": {
  "kernelspec": {
   "display_name": "Python 3 (ipykernel)",
   "language": "python",
   "name": "python3"
  },
  "language_info": {
   "codemirror_mode": {
    "name": "ipython",
    "version": 3
   },
   "file_extension": ".py",
   "mimetype": "text/x-python",
   "name": "python",
   "nbconvert_exporter": "python",
   "pygments_lexer": "ipython3",
   "version": "3.11.1"
  }
 },
 "nbformat": 4,
 "nbformat_minor": 5
}
